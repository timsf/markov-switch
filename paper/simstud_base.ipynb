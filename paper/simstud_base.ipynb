{
 "cells": [
  {
   "cell_type": "code",
   "execution_count": 6,
   "metadata": {
    "pycharm": {
     "name": "#%%\n"
    }
   },
   "outputs": [],
   "source": [
    "# dependencies\n",
    "\n",
    "import os\n",
    "os.environ['OPENBLAS_NUM_THREADS'] = '1'\n",
    "os.environ['MKL_NUM_THREADS'] = '1'\n",
    "\n",
    "import gzip\n",
    "import time\n",
    "from pickle import dump, load\n",
    "\n",
    "import numpy as np\n",
    "\n",
    "from switch import mcmc, sde\n",
    "from switch.models import loggrowth\n",
    "from switch.mjplib.skeleton import Skeleton"
   ]
  },
  {
   "cell_type": "code",
   "execution_count": null,
   "metadata": {},
   "outputs": [],
   "source": [
    "# configure design\n",
    "\n",
    "n_blocks = 4\n",
    "obs_dens = 1\n",
    "block_length = 64\n",
    "\n",
    "# configure algorithm\n",
    "\n",
    "n_samples = 10000\n",
    "n_init = 1000\n",
    "n_thin = 10\n",
    "init_scale_h = 2\n",
    "pr_portkey_h = 1e-2\n",
    "n_dc_splits = 1\n",
    "seed = 0\n",
    "\n",
    "# configure prior\n",
    "\n",
    "prior_shape_jumps = 1\n",
    "prior_rate_jumps = 2 ** 6"
   ]
  },
  {
   "cell_type": "code",
   "execution_count": 8,
   "metadata": {},
   "outputs": [],
   "source": [
    "# generate input time series\n",
    "\n",
    "ome = np.random.default_rng(seed)\n",
    "init_v = 1/np.sqrt(2)\n",
    "thi0 = np.array([[1, np.sqrt(2), 1/16], [1, 1/np.sqrt(2), 1/16]])\n",
    "jump_t = np.append(0, block_length * (1 + np.arange(2 * n_blocks)))\n",
    "jump_yt = np.append(0, np.tile([1, 0], n_blocks))\n",
    "y0 = Skeleton(jump_t, jump_yt, fin_t=jump_t[-1] + block_length / 2)\n",
    "\n",
    "t = np.linspace(0, y0.fin_t, int(y0.fin_t * 1) + 1)\n",
    "vt = [init_v]\n",
    "for dt, y_ in zip(np.diff(t), y0(t[:-1])):\n",
    "    vt.append(sde.sample_forward(thi0, dt, y_, vt[-1], loggrowth.mod, ome, 1))\n",
    "vt = np.array(vt)\n",
    "\n",
    "tt = [t[0]]\n",
    "vtt = [vt[0]]\n",
    "for dt, y_, v0, v1 in zip(np.diff(t), y0(t[:-1]), vt, vt[1:]):\n",
    "    v_ = sde.sample_bridge(thi0, np.linspace(0, dt, obs_dens + 1)[1:-1], dt, y_, v0, v1, loggrowth.mod, ome)\n",
    "    tt.extend(list(np.linspace(0, dt, obs_dens + 1)[1:-1] + tt[-1]) + [dt + tt[-1]])\n",
    "    vtt.extend(list(v_) + [v1])\n",
    "t = np.array(tt)\n",
    "vt = np.array(vtt)\n",
    "yt = y0(t)\n",
    "\n",
    "t = t[((obs_dens * block_length) // 2):] - t[((obs_dens * block_length) // 2)]\n",
    "vt = vt[((obs_dens * block_length) // 2):]\n",
    "yt = yt[((obs_dens * block_length) // 2):]"
   ]
  },
  {
   "cell_type": "code",
   "execution_count": 9,
   "metadata": {},
   "outputs": [],
   "source": [
    "# set up sampler\n",
    "\n",
    "samples = []\n",
    "sampler = mcmc.sample_posterior(\n",
    "    t, \n",
    "    vt, \n",
    "    2, \n",
    "    prior_shape_jumps, \n",
    "    prior_rate_jumps, \n",
    "    loggrowth.mod, \n",
    "    ome, \n",
    "    init_scale_h=init_scale_h, \n",
    "    n_init=n_init, \n",
    "    n_dc_splits=n_dc_splits, \n",
    "    pr_portkey_thi=1/t[-1], \n",
    "    pr_portkey_h=pr_portkey_h)"
   ]
  },
  {
   "cell_type": "code",
   "execution_count": 10,
   "metadata": {},
   "outputs": [],
   "source": [
    "# simulate markov chain\n",
    "\n",
    "for _ in range(n_init + n_samples):\n",
    "    t0 = time.process_time(); thi, lam, h, z = next(sampler); t1 = time.process_time()\n",
    "    itime = t1 - t0\n",
    "    if not _ % n_thin:\n",
    "        samples.append((thi, lam, h, {'itime': itime}))"
   ]
  },
  {
   "cell_type": "code",
   "execution_count": 11,
   "metadata": {},
   "outputs": [],
   "source": [
    "# dump to disc\n",
    "\n",
    "state = {k: v for k, v in sampler.gi_frame.f_locals.items() if k in\n",
    "         ('thi', 'lam', 'h', 'z', 't', 'vt', 'hyper_lam', 'thi_samplers', 'node_sampler', 'ctrl', 'ome')}\n",
    "with gzip.open('paper/simstud_base_state.pkl', 'wb') as f:\n",
    "    dump(state, f)\n",
    "with gzip.open('paper/simstud_base_samples.pkl', 'wb') as f:\n",
    "    dump(samples, f)"
   ]
  },
  {
   "cell_type": "code",
   "execution_count": 12,
   "metadata": {},
   "outputs": [],
   "source": [
    "# to restart from saved state\n",
    "\n",
    "# with gzip.open('paper/simstud_base_state.pkl', 'rb') as f:\n",
    "#     state = load(f)\n",
    "# with gzip.open('paper/simstud_base_samples.pkl', 'rb') as f:\n",
    "#     samples = load(f)\n",
    "\n",
    "# sampler = mcmc.resume_sampling(**state, mod=loggrowth.mod)"
   ]
  }
 ],
 "metadata": {
  "kernelspec": {
   "display_name": "markov-switch-remote",
   "language": "python",
   "name": "python3"
  },
  "language_info": {
   "codemirror_mode": {
    "name": "ipython",
    "version": 3
   },
   "file_extension": ".py",
   "mimetype": "text/x-python",
   "name": "python",
   "nbconvert_exporter": "python",
   "pygments_lexer": "ipython3",
   "version": "3.13.3"
  },
  "metadata": {
   "interpreter": {
    "hash": "56b89fb14e05da9158af30d66dde2034f11ddf9344e5903666e13f14d725eac8"
   }
  }
 },
 "nbformat": 4,
 "nbformat_minor": 1
}
