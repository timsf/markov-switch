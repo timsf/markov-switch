{
 "cells": [
  {
   "cell_type": "code",
   "execution_count": 1,
   "metadata": {},
   "outputs": [],
   "source": [
    "# dependencies\n",
    "\n",
    "import os\n",
    "os.environ['OPENBLAS_NUM_THREADS'] = '1'\n",
    "os.environ['MKL_NUM_THREADS'] = '1'\n",
    "\n",
    "import gzip\n",
    "from pickle import dump, load\n",
    "\n",
    "import numpy as np\n",
    "import pandas as pd\n",
    "\n",
    "from switch import mcmc\n",
    "from switch.models import tanh"
   ]
  },
  {
   "cell_type": "code",
   "execution_count": null,
   "metadata": {},
   "outputs": [],
   "source": [
    "# configure algorithm\n",
    "\n",
    "n_samples = 100000\n",
    "n_init = 10000\n",
    "n_thin = 10\n",
    "init_scale_h = 2\n",
    "n_dc_splits = 4\n",
    "pr_portkey_thi = 1e-3\n",
    "seed = 0\n",
    "\n",
    "# configure prior\n",
    "\n",
    "prior_shape_jumps = 1\n",
    "prior_rate_jumps = 48"
   ]
  },
  {
   "cell_type": "code",
   "execution_count": 3,
   "metadata": {},
   "outputs": [
    {
     "data": {
      "text/html": [
       "<div>\n",
       "<style scoped>\n",
       "    .dataframe tbody tr th:only-of-type {\n",
       "        vertical-align: middle;\n",
       "    }\n",
       "\n",
       "    .dataframe tbody tr th {\n",
       "        vertical-align: top;\n",
       "    }\n",
       "\n",
       "    .dataframe thead th {\n",
       "        text-align: right;\n",
       "    }\n",
       "</style>\n",
       "<table border=\"1\" class=\"dataframe\">\n",
       "  <thead>\n",
       "    <tr style=\"text-align: right;\">\n",
       "      <th></th>\n",
       "      <th>date</th>\n",
       "      <th>cumTime</th>\n",
       "      <th>centerE</th>\n",
       "      <th>centerN</th>\n",
       "    </tr>\n",
       "  </thead>\n",
       "  <tbody>\n",
       "    <tr>\n",
       "      <th>0</th>\n",
       "      <td>2009-01-18</td>\n",
       "      <td>0.00000</td>\n",
       "      <td>0.000</td>\n",
       "      <td>0.000</td>\n",
       "    </tr>\n",
       "    <tr>\n",
       "      <th>1</th>\n",
       "      <td>2009-01-18</td>\n",
       "      <td>0.99984</td>\n",
       "      <td>0.018</td>\n",
       "      <td>-0.066</td>\n",
       "    </tr>\n",
       "    <tr>\n",
       "      <th>2</th>\n",
       "      <td>2009-01-18</td>\n",
       "      <td>1.99992</td>\n",
       "      <td>0.010</td>\n",
       "      <td>-0.078</td>\n",
       "    </tr>\n",
       "    <tr>\n",
       "      <th>3</th>\n",
       "      <td>2009-01-18</td>\n",
       "      <td>3.01656</td>\n",
       "      <td>0.030</td>\n",
       "      <td>-0.213</td>\n",
       "    </tr>\n",
       "    <tr>\n",
       "      <th>4</th>\n",
       "      <td>2009-01-23</td>\n",
       "      <td>123.73320</td>\n",
       "      <td>-0.381</td>\n",
       "      <td>-0.383</td>\n",
       "    </tr>\n",
       "    <tr>\n",
       "      <th>...</th>\n",
       "      <td>...</td>\n",
       "      <td>...</td>\n",
       "      <td>...</td>\n",
       "      <td>...</td>\n",
       "    </tr>\n",
       "    <tr>\n",
       "      <th>3914</th>\n",
       "      <td>2012-08-30</td>\n",
       "      <td>31672.71648</td>\n",
       "      <td>12.198</td>\n",
       "      <td>-10.904</td>\n",
       "    </tr>\n",
       "    <tr>\n",
       "      <th>3915</th>\n",
       "      <td>2012-08-30</td>\n",
       "      <td>31677.71664</td>\n",
       "      <td>12.033</td>\n",
       "      <td>-8.594</td>\n",
       "    </tr>\n",
       "    <tr>\n",
       "      <th>3916</th>\n",
       "      <td>2012-08-30</td>\n",
       "      <td>31683.08328</td>\n",
       "      <td>12.040</td>\n",
       "      <td>-8.597</td>\n",
       "    </tr>\n",
       "    <tr>\n",
       "      <th>3917</th>\n",
       "      <td>2012-08-30</td>\n",
       "      <td>31683.61656</td>\n",
       "      <td>12.041</td>\n",
       "      <td>-8.592</td>\n",
       "    </tr>\n",
       "    <tr>\n",
       "      <th>3918</th>\n",
       "      <td>2012-08-30</td>\n",
       "      <td>31684.13328</td>\n",
       "      <td>11.879</td>\n",
       "      <td>-8.490</td>\n",
       "    </tr>\n",
       "  </tbody>\n",
       "</table>\n",
       "<p>3919 rows × 4 columns</p>\n",
       "</div>"
      ],
      "text/plain": [
       "           date      cumTime  centerE  centerN\n",
       "0    2009-01-18      0.00000    0.000    0.000\n",
       "1    2009-01-18      0.99984    0.018   -0.066\n",
       "2    2009-01-18      1.99992    0.010   -0.078\n",
       "3    2009-01-18      3.01656    0.030   -0.213\n",
       "4    2009-01-23    123.73320   -0.381   -0.383\n",
       "...         ...          ...      ...      ...\n",
       "3914 2012-08-30  31672.71648   12.198  -10.904\n",
       "3915 2012-08-30  31677.71664   12.033   -8.594\n",
       "3916 2012-08-30  31683.08328   12.040   -8.597\n",
       "3917 2012-08-30  31683.61656   12.041   -8.592\n",
       "3918 2012-08-30  31684.13328   11.879   -8.490\n",
       "\n",
       "[3919 rows x 4 columns]"
      ]
     },
     "execution_count": 3,
     "metadata": {},
     "output_type": "execute_result"
    }
   ],
   "source": [
    "# import data\n",
    "\n",
    "f109 = pd.read_csv('paper/f109.csv', sep=',', parse_dates=['date']).iloc[:, 1:]\n",
    "f109"
   ]
  },
  {
   "cell_type": "code",
   "execution_count": 4,
   "metadata": {},
   "outputs": [],
   "source": [
    "# select 2009 data\n",
    "\n",
    "t = f109.cumTime.values[f109.date.dt.year == 2009]\n",
    "vt = f109.centerE.values[f109.date.dt.year == 2009]"
   ]
  },
  {
   "cell_type": "code",
   "execution_count": null,
   "metadata": {},
   "outputs": [],
   "source": [
    "# set up sampler\n",
    "\n",
    "samples = []\n",
    "sampler = mcmc.sample_posterior(\n",
    "    t,\n",
    "    vt,\n",
    "    2,\n",
    "    prior_shape_jumps,\n",
    "    prior_rate_jumps,\n",
    "    tanh.mod,\n",
    "    np.random.default_rng(seed),\n",
    "    init_scale_h=init_scale_h,\n",
    "    n_init=n_init,\n",
    "    n_dc_splits=n_dc_splits,\n",
    "    pr_portkey_thi=pr_portkey_thi)"
   ]
  },
  {
   "cell_type": "code",
   "execution_count": null,
   "metadata": {},
   "outputs": [
    {
     "name": "stderr",
     "output_type": "stream",
     "text": [
      "<lambdifygenerated-7>:3: RuntimeWarning: divide by zero encountered in log\n",
      "  return b*r*(x + log(tanh(m - x) + 1))\n",
      "/Users/tim.sf/Documents/research/ctbayes/markov_switch_remote/switch/factory.py:442: RuntimeWarning: invalid value encountered in subtract\n",
      "  dsx_dil = self.eval_sx_dil(thi[yt[:-1]].T, xt[1:]) - self.eval_sx_dil(thi[yt[:-1]].T, xt[:-1])\n",
      "/Users/tim.sf/Documents/research/ctbayes/markov_switch_remote/switch/misc/bfactories.py:59: RuntimeWarning: invalid value encountered in logaddexp\n",
      "  log_prob = np.sum(log_odds) - np.logaddexp(0, np.sum(log_odds))\n",
      "/Users/tim.sf/Documents/research/ctbayes/markov_switch_remote/switch/misc/bfactories.py:59: RuntimeWarning: invalid value encountered in scalar subtract\n",
      "  log_prob = np.sum(log_odds) - np.logaddexp(0, np.sum(log_odds))\n"
     ]
    }
   ],
   "source": [
    "# simulate markov chain\n",
    "\n",
    "for _ in range(n_samples):\n",
    "    s = next(sampler)\n",
    "    if not _ % n_thin:\n",
    "        samples.append(s[:3])"
   ]
  },
  {
   "cell_type": "code",
   "execution_count": null,
   "metadata": {},
   "outputs": [],
   "source": [
    "# dump to disc\n",
    "\n",
    "state = {k: v for k, v in sampler.gi_frame.f_locals.items() if k in\n",
    "         ('thi', 'lam', 'h', 'z', 't', 'vt', 'hyper_lam', 'thi_samplers', 'node_sampler', 'ctrl', 'ome')}\n",
    "with gzip.open('paper/f109_mcmc_state.pkl', 'wb') as f:\n",
    "    dump(state, f)\n",
    "with gzip.open('paper/f109_mcmc_samples.pkl', 'wb') as f:\n",
    "    dump(samples, f)"
   ]
  },
  {
   "cell_type": "code",
   "execution_count": null,
   "metadata": {},
   "outputs": [],
   "source": [
    "# to restart from saved state\n",
    "\n",
    "# with gzip.open('paper/f109_mcmc_state.pkl', 'rb') as f:\n",
    "#     state = load(f)\n",
    "# with gzip.open('paper/f109_mcmc_samples.pkl', 'rb') as f:\n",
    "#     samples = load(f)\n",
    "\n",
    "# sampler = mcmc.resume_sampling(**state, mod=tanh.mod)"
   ]
  }
 ],
 "metadata": {
  "kernelspec": {
   "display_name": "markov-switch-remote",
   "language": "python",
   "name": "python3"
  },
  "language_info": {
   "codemirror_mode": {
    "name": "ipython",
    "version": 3
   },
   "file_extension": ".py",
   "mimetype": "text/x-python",
   "name": "python",
   "nbconvert_exporter": "python",
   "pygments_lexer": "ipython3",
   "version": "3.13.3"
  }
 },
 "nbformat": 4,
 "nbformat_minor": 2
}
