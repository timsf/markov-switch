{
 "cells": [
  {
   "cell_type": "code",
   "execution_count": null,
   "metadata": {},
   "outputs": [],
   "source": [
    "# dependencies\n",
    "\n",
    "import gzip\n",
    "from pickle import dump, load\n",
    "\n",
    "import numpy as np\n",
    "import pandas as pd\n",
    "\n",
    "from switch import mcmc\n",
    "from switch.models import tanh"
   ]
  },
  {
   "cell_type": "code",
   "execution_count": null,
   "metadata": {},
   "outputs": [],
   "source": [
    "# configure algorithm\n",
    "\n",
    "n_samples = 100000\n",
    "n_init = 10000\n",
    "n_thin = 10\n",
    "init_scale_h = 2\n",
    "n_dc_splits = 4\n",
    "pr_portkey_thi = 1e-3\n",
    "seed = 0\n",
    "\n",
    "# configure prior\n",
    "\n",
    "prior_shape_jumps = 1\n",
    "prior_rate_jumps = 48"
   ]
  },
  {
   "cell_type": "code",
   "execution_count": null,
   "metadata": {},
   "outputs": [],
   "source": [
    "# import data\n",
    "\n",
    "f109 = pd.read_csv('paper/f109.csv', sep=',', parse_dates=['date']).iloc[:, 1:]\n",
    "f109"
   ]
  },
  {
   "cell_type": "code",
   "execution_count": null,
   "metadata": {},
   "outputs": [],
   "source": [
    "# select 2009 data\n",
    "\n",
    "t = f109.cumTime.values[f109.date.dt.year == 2009]\n",
    "vt = f109.centerE.values[f109.date.dt.year == 2009]"
   ]
  },
  {
   "cell_type": "code",
   "execution_count": null,
   "metadata": {},
   "outputs": [],
   "source": [
    "# set up sampler\n",
    "\n",
    "samples = []\n",
    "sampler = mcmc.sample_posterior(\n",
    "    t,\n",
    "    vt,\n",
    "    2,\n",
    "    prior_shape_jumps,\n",
    "    prior_rate_jumps,\n",
    "    tanh.mod,\n",
    "    np.random.default_rng(seed),\n",
    "    init_scale_h=init_scale_h,\n",
    "    n_init=n_init,\n",
    "    n_dc_splits=n_dc_splits,\n",
    "    pr_portkey_thi=pr_portkey_thi)"
   ]
  },
  {
   "cell_type": "code",
   "execution_count": null,
   "metadata": {},
   "outputs": [],
   "source": [
    "# simulate markov chain\n",
    "\n",
    "for _ in range(n_samples):\n",
    "    s = next(sampler)\n",
    "    if not _ % n_thin:\n",
    "        samples.append(s[:3])"
   ]
  },
  {
   "cell_type": "code",
   "execution_count": null,
   "metadata": {},
   "outputs": [],
   "source": [
    "# dump to disc\n",
    "\n",
    "state = {k: v for k, v in sampler.gi_frame.f_locals.items() if k in\n",
    "         ('thi', 'lam', 'h', 'z', 't', 'vt', 'hyper_lam', 'thi_samplers', 'node_sampler', 'ctrl', 'ome')}\n",
    "with gzip.open('paper/f109_mcmc_state.pkl', 'wb') as f:\n",
    "    dump(state, f)\n",
    "with gzip.open('paper/f109_mcmc_samples.pkl', 'wb') as f:\n",
    "    dump(samples, f)"
   ]
  },
  {
   "cell_type": "code",
   "execution_count": null,
   "metadata": {},
   "outputs": [],
   "source": [
    "# to restart from saved state\n",
    "\n",
    "# with gzip.open('paper/f109_mcmc_state.pkl', 'rb') as f:\n",
    "#     state = load(f)\n",
    "# with gzip.open('paper/f109_mcmc_samples.pkl', 'rb') as f:\n",
    "#     samples = load(f)\n",
    "\n",
    "# sampler = mcmc.resume_sampling(**state, mod=tanh.mod)"
   ]
  }
 ],
 "metadata": {
  "kernelspec": {
   "display_name": "markov-switch-remote",
   "language": "python",
   "name": "python3"
  },
  "language_info": {
   "codemirror_mode": {
    "name": "ipython",
    "version": 3
   },
   "file_extension": ".py",
   "mimetype": "text/x-python",
   "name": "python",
   "nbconvert_exporter": "python",
   "pygments_lexer": "ipython3",
   "version": "3.13.3"
  }
 },
 "nbformat": 4,
 "nbformat_minor": 2
}
